{
 "cells": [
  {
   "cell_type": "code",
   "execution_count": null,
   "id": "d090c003",
   "metadata": {
    "execution": {
     "iopub.execute_input": "2025-02-07T20:10:24.327231Z",
     "iopub.status.busy": "2025-02-07T20:10:24.326874Z",
     "iopub.status.idle": "2025-02-07T20:10:24.332508Z",
     "shell.execute_reply": "2025-02-07T20:10:24.331608Z"
    },
    "papermill": {
     "duration": 0.011705,
     "end_time": "2025-02-07T20:10:24.334136",
     "exception": false,
     "start_time": "2025-02-07T20:10:24.322431",
     "status": "completed"
    },
    "tags": []
   },
   "outputs": [],
   "source": [
    "import warnings\n",
    "\n",
    "warnings.filterwarnings(\"ignore\")"
   ]
  },
  {
   "cell_type": "code",
   "execution_count": null,
   "id": "79eb466a",
   "metadata": {
    "_cell_guid": "b1076dfc-b9ad-4769-8c92-a6c4dae69d19",
    "_uuid": "8f2839f25d086af736a60e9eeb907d3b93b6e0e5",
    "execution": {
     "iopub.execute_input": "2025-02-07T20:10:24.341269Z",
     "iopub.status.busy": "2025-02-07T20:10:24.340920Z",
     "iopub.status.idle": "2025-02-07T20:10:25.186771Z",
     "shell.execute_reply": "2025-02-07T20:10:25.185805Z"
    },
    "papermill": {
     "duration": 0.851285,
     "end_time": "2025-02-07T20:10:25.188785",
     "exception": false,
     "start_time": "2025-02-07T20:10:24.337500",
     "status": "completed"
    },
    "tags": []
   },
   "outputs": [],
   "source": [
    "import numpy as np\n",
    "import pandas as pd\n",
    "\n",
    "train_df_dir = \"data/steam-train.csv\"\n",
    "test_df_dir = \"data/steam-test.csv\""
   ]
  },
  {
   "cell_type": "code",
   "execution_count": null,
   "id": "ebe2b501",
   "metadata": {
    "execution": {
     "iopub.execute_input": "2025-02-07T20:10:25.195736Z",
     "iopub.status.busy": "2025-02-07T20:10:25.195187Z",
     "iopub.status.idle": "2025-02-07T20:10:25.515310Z",
     "shell.execute_reply": "2025-02-07T20:10:25.514165Z"
    },
    "papermill": {
     "duration": 0.325507,
     "end_time": "2025-02-07T20:10:25.517237",
     "exception": false,
     "start_time": "2025-02-07T20:10:25.191730",
     "status": "completed"
    },
    "tags": []
   },
   "outputs": [],
   "source": [
    "train_df = pd.read_csv(train_df_dir)\n",
    "test_df = pd.read_csv(test_df_dir)"
   ]
  },
  {
   "cell_type": "code",
   "execution_count": null,
   "id": "d779b577",
   "metadata": {
    "execution": {
     "iopub.execute_input": "2025-02-07T20:10:25.628537Z",
     "iopub.status.busy": "2025-02-07T20:10:25.628182Z",
     "iopub.status.idle": "2025-02-07T20:10:25.652238Z",
     "shell.execute_reply": "2025-02-07T20:10:25.651156Z"
    },
    "papermill": {
     "duration": 0.029596,
     "end_time": "2025-02-07T20:10:25.654012",
     "exception": false,
     "start_time": "2025-02-07T20:10:25.624416",
     "status": "completed"
    },
    "tags": []
   },
   "outputs": [],
   "source": [
    "test_uid = test_df[\"uid\"]\n",
    "\n",
    "train_df.drop(\"uid\", axis=1, inplace=True)\n",
    "test_df.drop(\"uid\", axis=1, inplace=True)\n",
    "\n",
    "day_map = {\n",
    "    \"Friday\": 0,\n",
    "    \"Saturday\": 1,\n",
    "}\n",
    "\n",
    "train_df[\"day\"] = train_df[\"day\"].map(day_map)\n",
    "test_df[\"day\"] = test_df[\"day\"].map(day_map)\n",
    "\n",
    "train_df.drop(\"minute\", axis=1, inplace=True)\n",
    "test_df.drop(\"minute\", axis=1, inplace=True)\n",
    "\n",
    "print(train_df.isna().sum())"
   ]
  },
  {
   "cell_type": "code",
   "execution_count": null,
   "id": "0ba363b1",
   "metadata": {},
   "outputs": [],
   "source": [
    "from sklearn.neighbors import KNeighborsRegressor\n",
    "\n",
    "\n",
    "def KNN_Imputer(df):\n",
    "    for i in df.columns:\n",
    "        if df[i].isna().sum() == 0:\n",
    "            continue\n",
    "\n",
    "        temp_df = df.copy()\n",
    "        for x in df.columns:\n",
    "            if x == i:\n",
    "                continue\n",
    "            temp_df[x].fillna(value=temp_df[x].mean(), inplace=True)\n",
    "\n",
    "        col = i\n",
    "        other_cols = [x for x in df.columns if x != col]\n",
    "        X = temp_df[other_cols][df[col].notna()]\n",
    "        y = temp_df[col][df[col].notna()]\n",
    "\n",
    "        neigh = KNeighborsRegressor(n_neighbors=3)\n",
    "        neigh.fit(np.array(X), np.array(y))\n",
    "\n",
    "        print(f\"Imputing {i}\")\n",
    "        for i, j in enumerate(df[col].isnull()):\n",
    "            if j == True:\n",
    "                df[col].iloc[i] = neigh.predict(temp_df[other_cols].iloc[i : i + 1, :])[\n",
    "                    0\n",
    "                ]\n",
    "    return df\n",
    "\n",
    "\n",
    "train_df = KNN_Imputer(train_df)\n",
    "test_df = KNN_Imputer(test_df)\n",
    "\n",
    "print(train_df.isna().sum())"
   ]
  },
  {
   "cell_type": "code",
   "execution_count": null,
   "id": "e241f0ab",
   "metadata": {
    "execution": {
     "iopub.execute_input": "2025-02-07T20:10:25.743328Z",
     "iopub.status.busy": "2025-02-07T20:10:25.742960Z",
     "iopub.status.idle": "2025-02-07T20:10:27.218875Z",
     "shell.execute_reply": "2025-02-07T20:10:27.217914Z"
    },
    "papermill": {
     "duration": 1.48205,
     "end_time": "2025-02-07T20:10:27.220934",
     "exception": false,
     "start_time": "2025-02-07T20:10:25.738884",
     "status": "completed"
    },
    "tags": []
   },
   "outputs": [],
   "source": [
    "from sklearn.model_selection import train_test_split\n",
    "\n",
    "X = train_df.drop(\"output_electricity_generation\", axis=1)\n",
    "y = train_df[\"output_electricity_generation\"]\n",
    "\n",
    "X[\"vapour_pressure_per_temp\"] = X[\"vapour_pressure\"] / X[\"vapour_temperature\"]\n",
    "test_df[\"vapour_pressure_per_temp\"] = (\n",
    "    test_df[\"vapour_pressure\"] / test_df[\"vapour_temperature\"]\n",
    ")\n",
    "\n",
    "X[\"vapour_enthalpy_per_temp\"] = X[\"vapour_enthalpy\"] / X[\"vapour_temperature\"]\n",
    "test_df[\"vapour_enthalpy_per_temp\"] = (\n",
    "    test_df[\"vapour_enthalpy\"] / test_df[\"vapour_temperature\"]\n",
    ")\n",
    "\n",
    "\n",
    "X_train, X_test, y_train, y_test = train_test_split(X, y, test_size=0.2, random_state=1)\n",
    "\n",
    "X_train[\"hour_sin\"] = np.sin(2 * np.pi * X_train[\"hour\"] / 23.0)\n",
    "X_train[\"hour_cos\"] = np.cos(2 * np.pi * X_train[\"hour\"] / 23.0)\n",
    "\n",
    "X_test[\"hour_sin\"] = np.sin(2 * np.pi * X_test[\"hour\"] / 23.0)\n",
    "X_test[\"hour_cos\"] = np.cos(2 * np.pi * X_test[\"hour\"] / 23.0)\n",
    "\n",
    "test_df[\"hour_sin\"] = np.sin(2 * np.pi * test_df[\"hour\"] / 23.0)\n",
    "test_df[\"hour_cos\"] = np.cos(2 * np.pi * test_df[\"hour\"] / 23.0)"
   ]
  },
  {
   "cell_type": "code",
   "execution_count": null,
   "id": "46c9df28",
   "metadata": {},
   "outputs": [],
   "source": [
    "import optuna\n",
    "import lightgbm as lgb\n",
    "from sklearn.metrics import mean_squared_error\n",
    "\n",
    "\n",
    "def objective(trial):\n",
    "    param = {\n",
    "        \"objective\": \"regression\",\n",
    "        \"metric\": \"rmse\",\n",
    "        \"verbosity\": -1,\n",
    "        \"boosting_type\": \"gbdt\",\n",
    "        \"lambda_l1\": trial.suggest_float(\"lambda_l1\", 1e-8, 10.0, log=True),\n",
    "        \"lambda_l2\": trial.suggest_float(\"lambda_l2\", 1e-8, 10.0, log=True),\n",
    "        \"num_leaves\": trial.suggest_int(\"num_leaves\", 2, 256),\n",
    "        \"feature_fraction\": trial.suggest_float(\"feature_fraction\", 0.4, 1.0),\n",
    "        \"bagging_fraction\": trial.suggest_float(\"bagging_fraction\", 0.4, 1.0),\n",
    "        \"bagging_freq\": trial.suggest_int(\"bagging_freq\", 1, 7),\n",
    "        \"min_child_samples\": trial.suggest_int(\"min_child_samples\", 5, 100),\n",
    "    }\n",
    "\n",
    "    lgb_train = lgb.Dataset(X_train, y_train)\n",
    "    lgb_eval = lgb.Dataset(X_test, y_test, reference=lgb_train)\n",
    "\n",
    "    model = lgb.train(param, lgb_train, valid_sets=[lgb_train, lgb_eval])\n",
    "\n",
    "    y_pred = model.predict(X_test, num_iteration=model.best_iteration)\n",
    "    rmse = np.sqrt(mean_squared_error(y_test, y_pred))\n",
    "\n",
    "    return rmse\n",
    "\n",
    "\n",
    "study = optuna.create_study(direction=\"minimize\")\n",
    "study.optimize(objective, n_trials=100)\n",
    "\n",
    "lgb_params = study.best_params\n",
    "lgb_params[\"objective\"] = \"regression\"\n",
    "lgb_params[\"metric\"] = \"rmse\"\n",
    "lgb_params[\"verbosity\"] = -1\n",
    "lgb_params[\"boosting_type\"] = \"gbdt\"\n",
    "\n",
    "lgb_train = lgb.Dataset(X_train, y_train)\n",
    "lgb_eval = lgb.Dataset(X_test, y_test, reference=lgb_train)\n",
    "\n",
    "lgb_model = lgb.train(lgb_params, lgb_train, valid_sets=[lgb_train, lgb_eval])\n",
    "\n",
    "lgb_pred = lgb_model.predict(X_test, num_iteration=lgb_model.best_iteration)\n",
    "lgb_rmse = np.sqrt(mean_squared_error(y_test, lgb_pred))\n",
    "print(f\"LightGBM RMSE: {lgb_rmse}\\n\")"
   ]
  },
  {
   "cell_type": "code",
   "execution_count": null,
   "id": "63f8b324",
   "metadata": {},
   "outputs": [],
   "source": [
    "from sklearn.ensemble import StackingRegressor\n",
    "from sklearn.ensemble import RandomForestRegressor\n",
    "\n",
    "estimators = [\n",
    "    (\"lgb\", lgb.LGBMRegressor(**lgb_params)),\n",
    "    (\"rf\", RandomForestRegressor(max_depth=32, random_state=1)),\n",
    "]\n",
    "\n",
    "stacker = StackingRegressor(\n",
    "    estimators=estimators, final_estimator=RandomForestRegressor()\n",
    ")\n",
    "stacker.fit(X_train, y_train)\n",
    "\n",
    "stacker_pred = stacker.predict(X_test)\n",
    "\n",
    "stacker_rmse = np.sqrt(mean_squared_error(y_test, stacker_pred))\n",
    "\n",
    "print(f\"Stacker RMSE: {stacker_rmse}\\n\")"
   ]
  },
  {
   "cell_type": "code",
   "execution_count": null,
   "id": "cc87e1c7",
   "metadata": {},
   "outputs": [],
   "source": [
    "stacker_pred = stacker.predict(test_df)\n",
    "stacker_submission = pd.DataFrame(\n",
    "    {\"uid\": test_uid, \"output_electricity_generation\": stacker_pred}\n",
    ")\n",
    "train = pd.read_csv(train_df_dir)\n",
    "test = pd.read_csv(test_df_dir)\n",
    "\n",
    "grp3_df = (\n",
    "    train.groupby([\"day\", \"hour\", \"minute\"])[\"output_electricity_generation\"]\n",
    "    .mean()\n",
    "    .reset_index()\n",
    ")\n",
    "grp3_df = grp3_df.rename(\n",
    "    columns={\"output_electricity_generation\": \"3_output_electricity_generation\"}\n",
    ")\n",
    "train = train.merge(grp3_df, on=[\"day\", \"hour\", \"minute\"], how=\"left\")\n",
    "test = test.merge(grp3_df, on=[\"day\", \"hour\", \"minute\"], how=\"left\")\n",
    "\n",
    "stacker_submission.loc[\n",
    "    test[\"3_output_electricity_generation\"].notnull(), \"output_electricity_generation\"\n",
    "] = test.loc[\n",
    "    test[\"3_output_electricity_generation\"].notnull(), \"3_output_electricity_generation\"\n",
    "].values\n",
    "stacker_submission.to_csv(f\"output/submission.csv\", index=False)"
   ]
  }
 ],
 "metadata": {
  "kaggle": {
   "accelerator": "none",
   "dataSources": [
    {
     "databundleVersionId": 11034314,
     "sourceId": 92582,
     "sourceType": "competition"
    }
   ],
   "isGpuEnabled": false,
   "isInternetEnabled": true,
   "language": "python",
   "sourceType": "notebook"
  },
  "kernelspec": {
   "display_name": "Python 3",
   "language": "python",
   "name": "python3"
  },
  "language_info": {
   "codemirror_mode": {
    "name": "ipython",
    "version": 3
   },
   "file_extension": ".py",
   "mimetype": "text/x-python",
   "name": "python",
   "nbconvert_exporter": "python",
   "pygments_lexer": "ipython3",
   "version": "3.12.9"
  },
  "papermill": {
   "default_parameters": {},
   "duration": 59.649997,
   "end_time": "2025-02-07T20:11:20.728007",
   "environment_variables": {},
   "exception": null,
   "input_path": "__notebook__.ipynb",
   "output_path": "__notebook__.ipynb",
   "parameters": {},
   "start_time": "2025-02-07T20:10:21.078010",
   "version": "2.6.0"
  }
 },
 "nbformat": 4,
 "nbformat_minor": 5
}
